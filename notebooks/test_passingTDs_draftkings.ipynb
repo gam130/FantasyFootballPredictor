{
 "cells": [
  {
   "cell_type": "markdown",
   "metadata": {},
   "source": [
    "# Passing TDs - Draftkings"
   ]
  },
  {
   "cell_type": "markdown",
   "metadata": {},
   "source": [
    "This is the url from the network tab: https://sportsbook-nash.draftkings.com/api/sportscontent/dkuswatl/v1/leagues/88808/categories/1000/subcategories/15987"
   ]
  },
  {
   "cell_type": "markdown",
   "metadata": {},
   "source": [
    "Lets try to access it"
   ]
  },
  {
   "cell_type": "code",
   "execution_count": null,
   "metadata": {},
   "outputs": [],
   "source": [
    "import requests\n",
    "\n",
    "# The URL of the API endpoint\n",
    "url = \"https://sportsbook-nash.draftkings.com/api/sportscontent/dkuswatl/v1/leagues/88808/categories/1000/subcategories/15987\"\n",
    "\n",
    "headers = {\n",
    "    \"Accept\": \"*/*\",\n",
    "    \"Accept-Encoding\": \"gzip, deflate, br, zstd\",\n",
    "    \"Accept-Language\": \"en-US,en;q=0.9,ja;q=0.8,es;q=0.7\",\n",
    "    \"Origin\": \"https://sportsbook.draftkings.com\",\n",
    "    \"Referer\": \"https://sportsbook-nash.draftkings.com/\",\n",
    "    \"Sec-Ch-Ua\": '\"Chromium\";v=\"130\", \"Google Chrome\";v=\"130\", \"Not:A_Brand\";v=\"99\"',\n",
    "    \"Sec-Ch-Ua-Mobile\": \"?0\",\n",
    "    \"Sec-Ch-Ua-Platform\": \"Windows\",\n",
    "    \"Sec-Fetch-Dest\": \"empty\",\n",
    "    \"Sec-Fetch-Mode\": \"cors\",\n",
    "    \"Sec-Fetch-Site\": \"same-site\",\n",
    "    \"User-Agent\": \"Mozilla/5.0 (Windows NT 10.0; Win64; x64) AppleWebKit/537.36 (KHTML, like Gecko) Chrome/130.0.0.0 Safari/537.36\"\n",
    "}\n",
    "\n",
    "\n",
    "# Send a GET request to the URL\n",
    "response = requests.get(url, headers=headers)\n",
    "\n",
    "# Check if the request was successful\n",
    "if response.status_code == 200:\n",
    "    # Parse JSON data\n",
    "    data = response.json()\n",
    "    print(data)  # Display the JSON data\n",
    "else:\n",
    "    print(f\"Failed to retrieve data: {response.status_code}\")\n"
   ]
  },
  {
   "cell_type": "markdown",
   "metadata": {},
   "source": [
    "It works! This is passing TDs. Lets try predict Joe Burrow's passing TDs (no devigging)"
   ]
  },
  {
   "cell_type": "markdown",
   "metadata": {},
   "source": [
    "First lets get the odds for all of Burrow's passing TDs"
   ]
  },
  {
   "cell_type": "code",
   "execution_count": null,
   "metadata": {},
   "outputs": [],
   "source": [
    "def parse_qb_passing_tds_json(name: str):\n",
    "  selections = data[\"selections\"]\n",
    "  odds = {}\n",
    "  for s in selections:\n",
    "    participants = s[\"participants\"]\n",
    "    for p in participants:\n",
    "      if p[\"name\"] == name:\n",
    "        label = s[\"label\"]\n",
    "        odds[label] = s[\"displayOdds\"][\"american\"]\n",
    "\n",
    "  return odds"
   ]
  },
  {
   "cell_type": "code",
   "execution_count": null,
   "metadata": {},
   "outputs": [],
   "source": [
    "burrow_odds = parse_qb_passing_tds_json(\"Joe Burrow\")\n",
    "burrow_odds"
   ]
  },
  {
   "cell_type": "markdown",
   "metadata": {},
   "source": [
    "Great! Now we can convert these to implied probabilities"
   ]
  },
  {
   "cell_type": "code",
   "execution_count": null,
   "metadata": {},
   "outputs": [],
   "source": [
    "def convert_to_implied_probability(odds):\n",
    "  positive = odds[0] == '+'\n",
    "  odds = int(odds[1:])\n",
    "  if positive:\n",
    "    return 100 / (odds + 100)\n",
    "  else:\n",
    "    return odds / (odds + 100)"
   ]
  },
  {
   "cell_type": "code",
   "execution_count": null,
   "metadata": {},
   "outputs": [],
   "source": [
    "def convert_odds_dict_to_implied_probability(oddsDict, atLeast: int = 0):\n",
    "  implied_probabilities = {tds: convert_to_implied_probability(odds) for tds, odds in oddsDict.items()}\n",
    "  implied_probabilities[str(atLeast) + '+'] = 1.00 # 100% chance to for at least 0 TDs\n",
    "  return implied_probabilities"
   ]
  },
  {
   "cell_type": "code",
   "execution_count": null,
   "metadata": {},
   "outputs": [],
   "source": [
    "burrow_probabilities = convert_odds_dict_to_implied_probability(burrow_odds)\n",
    "burrow_probabilities"
   ]
  },
  {
   "cell_type": "markdown",
   "metadata": {},
   "source": [
    "From here, we can calculate the probabilities that Burrow gets exactly 0, 1, 2, 3, and 4+ TDs"
   ]
  },
  {
   "cell_type": "code",
   "execution_count": null,
   "metadata": {},
   "outputs": [],
   "source": [
    "def convert_cumulative_to_exact(cumulative_probabilities):\n",
    "  cumulative_probabilities = { int(k[0]):v for k, v in cumulative_probabilities.items() }\n",
    "  exact_probabilities = {}\n",
    "  upper_td_range = max(cumulative_probabilities) # some have 4+ td props, some have only 3\n",
    "  for i in range(0, upper_td_range):\n",
    "    exact_probabilities[i] = cumulative_probabilities[i] - cumulative_probabilities[i + 1]\n",
    "\n",
    "  exact_probabilities[upper_td_range] = cumulative_probabilities[upper_td_range]\n",
    "  return exact_probabilities"
   ]
  },
  {
   "cell_type": "code",
   "execution_count": null,
   "metadata": {},
   "outputs": [],
   "source": [
    "exact_burrow_td_probabilities = convert_cumulative_to_exact(burrow_probabilities)\n",
    "exact_burrow_td_probabilities"
   ]
  },
  {
   "cell_type": "markdown",
   "metadata": {},
   "source": [
    "Finally, we can find the expected number of passing TDs by multiplying to find the EV"
   ]
  },
  {
   "cell_type": "code",
   "execution_count": null,
   "metadata": {},
   "outputs": [],
   "source": [
    "def find_expected_value(exact_probabilities):\n",
    "  ev = 0\n",
    "  for k,v in exact_probabilities.items():\n",
    "    ev += (k * v)\n",
    "\n",
    "  return ev"
   ]
  },
  {
   "cell_type": "code",
   "execution_count": null,
   "metadata": {},
   "outputs": [],
   "source": [
    "burrow_expected_tds = find_expected_value(exact_burrow_td_probabilities)\n",
    "burrow_expected_tds"
   ]
  },
  {
   "cell_type": "markdown",
   "metadata": {},
   "source": [
    "We can also calculate the amount of expected fantasy points!"
   ]
  },
  {
   "cell_type": "code",
   "execution_count": null,
   "metadata": {},
   "outputs": [],
   "source": [
    "def find_expected_fantasy_points(statistic_value, fantasy_weight):\n",
    "  return statistic_value * fantasy_weight"
   ]
  },
  {
   "cell_type": "code",
   "execution_count": null,
   "metadata": {},
   "outputs": [],
   "source": [
    "find_expected_fantasy_points(burrow_expected_tds, fantasy_weight=4)"
   ]
  },
  {
   "cell_type": "markdown",
   "metadata": {},
   "source": [
    "We expect Joe Burrow to get 7.88 fantasy points based on just passing TDs"
   ]
  },
  {
   "cell_type": "markdown",
   "metadata": {},
   "source": [
    "Lets make this whole process into one simplified function (and try it out!)"
   ]
  },
  {
   "cell_type": "code",
   "execution_count": null,
   "metadata": {},
   "outputs": [],
   "source": [
    "def find_expected_passing_tds(name: str):\n",
    "  qb_passing_td_odds = parse_qb_passing_tds_json(name)\n",
    "  implied_probabilities = convert_odds_dict_to_implied_probability(qb_passing_td_odds)\n",
    "  exact_qb_td_probabilities = convert_cumulative_to_exact(implied_probabilities)\n",
    "  return find_expected_value(exact_qb_td_probabilities)"
   ]
  },
  {
   "cell_type": "code",
   "execution_count": null,
   "metadata": {},
   "outputs": [],
   "source": [
    "find_expected_passing_tds(\"Joe Burrow\")"
   ]
  },
  {
   "cell_type": "markdown",
   "metadata": {},
   "source": [
    "Lets do this for every QB that has props!"
   ]
  },
  {
   "cell_type": "code",
   "execution_count": null,
   "metadata": {},
   "outputs": [],
   "source": [
    "def get_all_expected_passing_tds():\n",
    "  expected_tds = {}\n",
    "  for s in data[\"selections\"]:\n",
    "    participants = s[\"participants\"]\n",
    "    for p in participants:\n",
    "      if p[\"name\"] not in expected_tds:\n",
    "        expected_tds[p[\"name\"]] = find_expected_passing_tds(p[\"name\"])\n",
    "\n",
    "  return expected_tds"
   ]
  },
  {
   "cell_type": "code",
   "execution_count": null,
   "metadata": {},
   "outputs": [],
   "source": [
    "get_all_expected_passing_tds()"
   ]
  },
  {
   "cell_type": "markdown",
   "metadata": {},
   "source": [
    "Find the expected fantasy points from passing TDs too:"
   ]
  },
  {
   "cell_type": "code",
   "execution_count": null,
   "metadata": {},
   "outputs": [],
   "source": [
    "def get_all_expected_passing_td_fantasy_points():\n",
    "  expected_tds = get_all_expected_passing_tds()\n",
    "  expected_fantasy_points = { player:find_expected_fantasy_points(tds, fantasy_weight=4) for player, tds in expected_tds.items() }\n",
    "  return expected_fantasy_points"
   ]
  },
  {
   "cell_type": "code",
   "execution_count": null,
   "metadata": {},
   "outputs": [],
   "source": [
    "fantasy_points_passing_tds = get_all_expected_passing_td_fantasy_points()\n",
    "sorted(fantasy_points_passing_tds.items(), key=lambda x: x[1], reverse=True)"
   ]
  }
 ],
 "metadata": {
  "kernelspec": {
   "display_name": ".venv",
   "language": "python",
   "name": "python3"
  },
  "language_info": {
   "codemirror_mode": {
    "name": "ipython",
    "version": 3
   },
   "file_extension": ".py",
   "mimetype": "text/x-python",
   "name": "python",
   "nbconvert_exporter": "python",
   "pygments_lexer": "ipython3",
   "version": "3.11.0"
  }
 },
 "nbformat": 4,
 "nbformat_minor": 2
}
