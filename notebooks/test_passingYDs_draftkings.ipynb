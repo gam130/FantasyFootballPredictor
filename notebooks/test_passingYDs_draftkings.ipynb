{
 "cells": [
  {
   "cell_type": "markdown",
   "metadata": {},
   "source": [
    "# Passing YDs - Draftkings"
   ]
  },
  {
   "cell_type": "code",
   "execution_count": null,
   "metadata": {},
   "outputs": [],
   "source": [
    "PASSING_YDS_ENDPOINT = \"https://sportsbook-nash.draftkings.com/api/sportscontent/dkuswatl/v1/leagues/88808/categories/1000/subcategories/9524\""
   ]
  },
  {
   "cell_type": "code",
   "execution_count": null,
   "metadata": {},
   "outputs": [],
   "source": [
    "import sys\n",
    "sys.path.append('C:/Users/gauta/FantasyFootballPredictor')\n",
    "\n",
    "from src.scraper.draftkings import get_draftkings_passing_yds"
   ]
  },
  {
   "cell_type": "code",
   "execution_count": null,
   "metadata": {},
   "outputs": [],
   "source": [
    "data = get_draftkings_passing_yds()\n",
    "data[\"selections\"][0]"
   ]
  },
  {
   "cell_type": "markdown",
   "metadata": {},
   "source": [
    "Let's try to get Gardner Minshew's expected passing yards"
   ]
  },
  {
   "cell_type": "code",
   "execution_count": null,
   "metadata": {},
   "outputs": [],
   "source": [
    "def parse_qb_passing_yds_json(data, name: str):\n",
    "  selections = data[\"selections\"]\n",
    "  points, under_odds, over_odds = '', '', ''\n",
    "  for s in selections:\n",
    "    participants = s[\"participants\"]\n",
    "    for p in participants:\n",
    "      if p[\"name\"] == name:\n",
    "        points = s[\"points\"]\n",
    "        outcomeType = s[\"outcomeType\"]\n",
    "        if outcomeType == \"Under\": \n",
    "          under_odds = s[\"displayOdds\"][\"american\"]\n",
    "        if outcomeType == \"Over\":\n",
    "          over_odds = s[\"displayOdds\"][\"american\"]\n",
    "\n",
    "  return points, under_odds, over_odds\n",
    "\n",
    "points, under, over = parse_qb_passing_yds_json(data, \"Garnder Minshew\")\n",
    "points"
   ]
  }
 ],
 "metadata": {
  "kernelspec": {
   "display_name": "Python 3",
   "language": "python",
   "name": "python3"
  },
  "language_info": {
   "codemirror_mode": {
    "name": "ipython",
    "version": 3
   },
   "file_extension": ".py",
   "mimetype": "text/x-python",
   "name": "python",
   "nbconvert_exporter": "python",
   "pygments_lexer": "ipython3",
   "version": "3.11.0"
  }
 },
 "nbformat": 4,
 "nbformat_minor": 2
}
